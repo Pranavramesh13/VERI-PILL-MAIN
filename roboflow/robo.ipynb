{
 "cells": [
  {
   "cell_type": "code",
   "execution_count": 1,
   "id": "901371c4",
   "metadata": {},
   "outputs": [
    {
     "name": "stdout",
     "output_type": "stream",
     "text": [
      "Requirement already satisfied: roboflow in e:\\veripill\\.venv\\lib\\site-packages (1.2.11)\n",
      "Requirement already satisfied: certifi in e:\\veripill\\.venv\\lib\\site-packages (from roboflow) (2025.10.5)\n",
      "Requirement already satisfied: idna==3.7 in e:\\veripill\\.venv\\lib\\site-packages (from roboflow) (3.7)\n",
      "Requirement already satisfied: cycler in e:\\veripill\\.venv\\lib\\site-packages (from roboflow) (0.12.1)\n",
      "Requirement already satisfied: kiwisolver>=1.3.1 in e:\\veripill\\.venv\\lib\\site-packages (from roboflow) (1.4.9)\n",
      "Requirement already satisfied: matplotlib in e:\\veripill\\.venv\\lib\\site-packages (from roboflow) (3.10.6)\n",
      "Requirement already satisfied: numpy>=1.18.5 in e:\\veripill\\.venv\\lib\\site-packages (from roboflow) (2.2.6)\n",
      "Requirement already satisfied: opencv-python-headless==4.10.0.84 in e:\\veripill\\.venv\\lib\\site-packages (from roboflow) (4.10.0.84)\n",
      "Requirement already satisfied: Pillow>=7.1.2 in e:\\veripill\\.venv\\lib\\site-packages (from roboflow) (11.3.0)\n",
      "Requirement already satisfied: pi-heif<2 in e:\\veripill\\.venv\\lib\\site-packages (from roboflow) (1.1.1)\n",
      "Requirement already satisfied: pillow-avif-plugin<2 in e:\\veripill\\.venv\\lib\\site-packages (from roboflow) (1.5.2)\n",
      "Requirement already satisfied: python-dateutil in e:\\veripill\\.venv\\lib\\site-packages (from roboflow) (2.9.0.post0)\n",
      "Requirement already satisfied: python-dotenv in e:\\veripill\\.venv\\lib\\site-packages (from roboflow) (1.1.1)\n",
      "Requirement already satisfied: requests in e:\\veripill\\.venv\\lib\\site-packages (from roboflow) (2.32.5)\n",
      "Requirement already satisfied: six in e:\\veripill\\.venv\\lib\\site-packages (from roboflow) (1.17.0)\n",
      "Requirement already satisfied: urllib3>=1.26.6 in e:\\veripill\\.venv\\lib\\site-packages (from roboflow) (2.5.0)\n",
      "Requirement already satisfied: tqdm>=4.41.0 in e:\\veripill\\.venv\\lib\\site-packages (from roboflow) (4.67.1)\n",
      "Requirement already satisfied: PyYAML>=5.3.1 in e:\\veripill\\.venv\\lib\\site-packages (from roboflow) (6.0.3)\n",
      "Requirement already satisfied: requests-toolbelt in e:\\veripill\\.venv\\lib\\site-packages (from roboflow) (1.0.0)\n",
      "Requirement already satisfied: filetype in e:\\veripill\\.venv\\lib\\site-packages (from roboflow) (1.2.0)\n",
      "Requirement already satisfied: colorama in e:\\veripill\\.venv\\lib\\site-packages (from tqdm>=4.41.0->roboflow) (0.4.6)\n",
      "Requirement already satisfied: contourpy>=1.0.1 in e:\\veripill\\.venv\\lib\\site-packages (from matplotlib->roboflow) (1.3.3)\n",
      "Requirement already satisfied: fonttools>=4.22.0 in e:\\veripill\\.venv\\lib\\site-packages (from matplotlib->roboflow) (4.60.1)\n",
      "Requirement already satisfied: packaging>=20.0 in e:\\veripill\\.venv\\lib\\site-packages (from matplotlib->roboflow) (25.0)\n",
      "Requirement already satisfied: pyparsing>=2.3.1 in e:\\veripill\\.venv\\lib\\site-packages (from matplotlib->roboflow) (3.2.5)\n",
      "Requirement already satisfied: charset_normalizer<4,>=2 in e:\\veripill\\.venv\\lib\\site-packages (from requests->roboflow) (3.4.4)\n",
      "Note: you may need to restart the kernel to use updated packages.\n"
     ]
    }
   ],
   "source": [
    "pip install roboflow\n"
   ]
  },
  {
   "cell_type": "code",
   "execution_count": 2,
   "id": "ab245f31",
   "metadata": {},
   "outputs": [],
   "source": [
    "import roboflow"
   ]
  },
  {
   "cell_type": "code",
   "execution_count": 3,
   "id": "8c511ea2",
   "metadata": {},
   "outputs": [],
   "source": [
    "rf = roboflow.Roboflow(api_key=\"zo5bZUBG0ezIcSGyp8PC\")"
   ]
  },
  {
   "cell_type": "code",
   "execution_count": 4,
   "id": "d5760e89",
   "metadata": {},
   "outputs": [
    {
     "name": "stdout",
     "output_type": "stream",
     "text": [
      "loading Roboflow workspace...\n",
      "loading Roboflow project...\n"
     ]
    }
   ],
   "source": [
    "model = rf.workspace(\"medicines-s3iri\").project(\"my-first-project-pp70s\").version(1).model"
   ]
  },
  {
   "cell_type": "code",
   "execution_count": 5,
   "id": "63dea1cc",
   "metadata": {},
   "outputs": [
    {
     "name": "stdout",
     "output_type": "stream",
     "text": [
      "loading Roboflow workspace...\n",
      "loading Roboflow project...\n",
      "None\n"
     ]
    }
   ],
   "source": [
    "from roboflow import Roboflow\n",
    "\n",
    "rf = roboflow.Roboflow(api_key=\"zo5bZUBG0ezIcSGyp8PC\")\n",
    "project = rf.workspace(\"medicines-s3iri\").project(\"my-first-project-pp70s\")\n",
    "\n",
    "model = project.version(1).model\n",
    "\n",
    "# Run inference using Roboflow’s hosted model\n",
    "result = model.predict(\"E:/veripill/VERI-PILL-MAIN/Dataset/Arkamin.jpeg\", confidence=40, overlap=30).save(\"prediction_output.jpg\")\n",
    "print(result)\n"
   ]
  },
  {
   "cell_type": "code",
   "execution_count": null,
   "id": "6dee8377",
   "metadata": {},
   "outputs": [],
   "source": []
  }
 ],
 "metadata": {
  "kernelspec": {
   "display_name": ".venv",
   "language": "python",
   "name": "python3"
  },
  "language_info": {
   "codemirror_mode": {
    "name": "ipython",
    "version": 3
   },
   "file_extension": ".py",
   "mimetype": "text/x-python",
   "name": "python",
   "nbconvert_exporter": "python",
   "pygments_lexer": "ipython3",
   "version": "3.13.3"
  }
 },
 "nbformat": 4,
 "nbformat_minor": 5
}
